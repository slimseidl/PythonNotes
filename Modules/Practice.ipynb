{
 "cells": [
  {
   "cell_type": "code",
   "execution_count": 6,
   "id": "bcd61aed",
   "metadata": {},
   "outputs": [
    {
     "name": "stdout",
     "output_type": "stream",
     "text": [
      "6\n",
      "362880\n"
     ]
    }
   ],
   "source": [
    "from math import factorial\n",
    "\n",
    "def calculate(x):\n",
    "    return factorial(x)\n",
    "\n",
    "\n",
    "\n",
    " \n",
    "print(calculate(3)) #expected outcome: 6\n",
    "print(calculate(9)) #expected outcome: 362880"
   ]
  },
  {
   "cell_type": "code",
   "execution_count": 11,
   "id": "a3c523fe",
   "metadata": {},
   "outputs": [
    {
     "name": "stdout",
     "output_type": "stream",
     "text": [
      "orange\n",
      "12\n"
     ]
    }
   ],
   "source": [
    "import random as r\n",
    "\n",
    "def selection(x):\n",
    "    return r.choice(x)\n",
    " \n",
    "print(selection(['apple','banana','orange','grape']))\n",
    "print(selection([7,5,3,9,12,4,8,10]))"
   ]
  },
  {
   "cell_type": "code",
   "execution_count": 3,
   "id": "1da14e23",
   "metadata": {},
   "outputs": [
    {
     "name": "stdout",
     "output_type": "stream",
     "text": [
      "345600.0\n",
      "604800.0\n"
     ]
    }
   ],
   "source": [
    "import datetime\n",
    "\n",
    "def currentDate(x):\n",
    "    print(datetime.timedelta(days=x).total_seconds())\n",
    " \n",
    "currentDate(4) #expected outcome: The total number of seconds is 345600.0.\n",
    "currentDate(7) #expected outcome: The total number of seconds is 604800.0."
   ]
  },
  {
   "cell_type": "code",
   "execution_count": 12,
   "id": "63e21e48",
   "metadata": {},
   "outputs": [
    {
     "name": "stdout",
     "output_type": "stream",
     "text": [
      "2025-08-11 14:25:30.981664\n"
     ]
    }
   ],
   "source": [
    "import datetime as dt\n",
    "\n",
    "def currentDate():\n",
    "    today = dt.datetime.now()\n",
    "    return today \n",
    " \n",
    "print(currentDate()) #Expected outcome will vary, but should follow this format: The current date is 9-11-2018."
   ]
  },
  {
   "cell_type": "code",
   "execution_count": 15,
   "id": "4c992a1e",
   "metadata": {},
   "outputs": [
    {
     "name": "stdout",
     "output_type": "stream",
     "text": [
      "9\n",
      "25\n"
     ]
    }
   ],
   "source": [
    "from math import e,ceil\n",
    "\n",
    "def mathCalculation(x):\n",
    "    num = ceil(x * e)\n",
    "    return num \n",
    " \n",
    "#expected outcome: 9\n",
    "print(mathCalculation(3))    \n",
    "\n",
    "#expected outcome: 25\n",
    "print(mathCalculation(9))"
   ]
  },
  {
   "cell_type": "code",
   "execution_count": 17,
   "id": "fde9e8a2",
   "metadata": {},
   "outputs": [
    {
     "name": "stdout",
     "output_type": "stream",
     "text": [
      "2\n",
      "4\n"
     ]
    }
   ],
   "source": [
    "import calendar\n",
    "\n",
    "\n",
    "def countLeapYears(yearList):\n",
    "    num = 0\n",
    "    for year in yearList:\n",
    "        if calendar.isleap(year):\n",
    "            num += 1\n",
    "    return num \n",
    "\n",
    " \n",
    "# expected output: 2\n",
    "print(countLeapYears([2001, 2018, 2020, 2090, 2233, 2176, 2200, 2982]))\n",
    " \n",
    "# expected output: 4\n",
    "print(countLeapYears([2001, 2018, 2020, 2092, 2204, 2176, 2200, 2982]))"
   ]
  },
  {
   "cell_type": "code",
   "execution_count": 21,
   "id": "64178382",
   "metadata": {},
   "outputs": [
    {
     "name": "stdout",
     "output_type": "stream",
     "text": [
      "March\n",
      "November\n"
     ]
    }
   ],
   "source": [
    "import calendar\n",
    "\n",
    "# Complete the function to print the full name of the month using the calendar library \n",
    "def printMonthName(monthNum):\n",
    "    print(calendar.month_name[monthNum])\n",
    " \n",
    "# expected output: March\n",
    "printMonthName(3)\n",
    " \n",
    "# expected output: November\n",
    "printMonthName(11)"
   ]
  },
  {
   "cell_type": "code",
   "execution_count": 25,
   "id": "37687f23",
   "metadata": {},
   "outputs": [
    {
     "name": "stdout",
     "output_type": "stream",
     "text": [
      "Friday\n",
      "Monday\n"
     ]
    }
   ],
   "source": [
    "import calendar, datetime\n",
    "\n",
    "# Complete the function to print the full name of the day of the week\n",
    "def printWeekdayName(year, month, day):\n",
    "    day_index = calendar.weekday(year, month, day)\n",
    "    print(calendar.day_name[day_index])\n",
    " \n",
    "# expected output: Friday    \n",
    "printWeekdayName(2001, 8, 31)\n",
    " \n",
    "# expected output: Monday\n",
    "printWeekdayName(2018, 10, 1)"
   ]
  },
  {
   "cell_type": "code",
   "execution_count": 26,
   "id": "a332b052",
   "metadata": {},
   "outputs": [
    {
     "name": "stdout",
     "output_type": "stream",
     "text": [
      "6\n",
      "8\n",
      "6\n",
      "6\n",
      "6\n",
      "6\n",
      "7\n",
      "5\n",
      "5\n",
      "8\n"
     ]
    }
   ],
   "source": [
    "import random\n",
    "\n",
    "# Complete the following function to return a random number\n",
    "# between 5 and 8 exclusive\n",
    "def getRandom():\n",
    "    return random.randint(5,8)\n",
    " \n",
    "# expected output: You should only get 5s, 6s, and 7s\n",
    "for i in range(10):\n",
    "    print(getRandom())"
   ]
  },
  {
   "cell_type": "code",
   "execution_count": 28,
   "id": "2b386c36",
   "metadata": {},
   "outputs": [
    {
     "name": "stdout",
     "output_type": "stream",
     "text": [
      "2018-12-30\n",
      "2015-05-12\n"
     ]
    }
   ],
   "source": [
    "import datetime\n",
    "\n",
    "# Complete the function to add 90 days to the given date and return the new date\n",
    "def add90Days(someDate):\n",
    " return someDate + datetime.timedelta(days=90)\n",
    " \n",
    "# expected output: 2018-12-30\n",
    "print(add90Days(datetime.date(2018, 10, 1)))\n",
    " \n",
    "# expected output: 2015-05-12\n",
    "print(add90Days(datetime.date(2015, 2, 11)))"
   ]
  },
  {
   "cell_type": "code",
   "execution_count": null,
   "id": "b6f95117",
   "metadata": {},
   "outputs": [],
   "source": []
  }
 ],
 "metadata": {
  "kernelspec": {
   "display_name": "Python 3",
   "language": "python",
   "name": "python3"
  },
  "language_info": {
   "codemirror_mode": {
    "name": "ipython",
    "version": 3
   },
   "file_extension": ".py",
   "mimetype": "text/x-python",
   "name": "python",
   "nbconvert_exporter": "python",
   "pygments_lexer": "ipython3",
   "version": "3.13.6"
  }
 },
 "nbformat": 4,
 "nbformat_minor": 5
}
