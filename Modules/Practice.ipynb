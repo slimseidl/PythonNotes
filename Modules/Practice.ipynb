{
 "cells": [
  {
   "cell_type": "code",
   "execution_count": 6,
   "id": "bcd61aed",
   "metadata": {},
   "outputs": [
    {
     "name": "stdout",
     "output_type": "stream",
     "text": [
      "6\n",
      "362880\n"
     ]
    }
   ],
   "source": [
    "from math import factorial\n",
    "\n",
    "def calculate(x):\n",
    "    return factorial(x)\n",
    "\n",
    "\n",
    "\n",
    " \n",
    "print(calculate(3)) #expected outcome: 6\n",
    "print(calculate(9)) #expected outcome: 362880"
   ]
  },
  {
   "cell_type": "code",
   "execution_count": 11,
   "id": "a3c523fe",
   "metadata": {},
   "outputs": [
    {
     "name": "stdout",
     "output_type": "stream",
     "text": [
      "orange\n",
      "12\n"
     ]
    }
   ],
   "source": [
    "import random as r\n",
    "\n",
    "def selection(x):\n",
    "    return r.choice(x)\n",
    " \n",
    "print(selection(['apple','banana','orange','grape']))\n",
    "print(selection([7,5,3,9,12,4,8,10]))"
   ]
  },
  {
   "cell_type": "code",
   "execution_count": null,
   "id": "1da14e23",
   "metadata": {},
   "outputs": [
    {
     "ename": "AttributeError",
     "evalue": "module 'datetime' has no attribute 'second'",
     "output_type": "error",
     "traceback": [
      "\u001b[31m---------------------------------------------------------------------------\u001b[39m",
      "\u001b[31mAttributeError\u001b[39m                            Traceback (most recent call last)",
      "\u001b[36mCell\u001b[39m\u001b[36m \u001b[39m\u001b[32mIn[14]\u001b[39m\u001b[32m, line 6\u001b[39m\n\u001b[32m      3\u001b[39m \u001b[38;5;28;01mdef\u001b[39;00m\u001b[38;5;250m \u001b[39m\u001b[34mcurrentDate\u001b[39m(x):\n\u001b[32m      4\u001b[39m     datetime.second(x)\n\u001b[32m----> \u001b[39m\u001b[32m6\u001b[39m \u001b[43mcurrentDate\u001b[49m\u001b[43m(\u001b[49m\u001b[32;43m4\u001b[39;49m\u001b[43m)\u001b[49m \u001b[38;5;66;03m#expected outcome: The total number of seconds is 345600.0.\u001b[39;00m\n\u001b[32m      7\u001b[39m currentDate(\u001b[32m7\u001b[39m) \u001b[38;5;66;03m#expected outcome: The total number of seconds is 604800.0.\u001b[39;00m\n",
      "\u001b[36mCell\u001b[39m\u001b[36m \u001b[39m\u001b[32mIn[14]\u001b[39m\u001b[32m, line 4\u001b[39m, in \u001b[36mcurrentDate\u001b[39m\u001b[34m(x)\u001b[39m\n\u001b[32m      3\u001b[39m \u001b[38;5;28;01mdef\u001b[39;00m\u001b[38;5;250m \u001b[39m\u001b[34mcurrentDate\u001b[39m(x):\n\u001b[32m----> \u001b[39m\u001b[32m4\u001b[39m     \u001b[43mdatetime\u001b[49m\u001b[43m.\u001b[49m\u001b[43msecond\u001b[49m(x)\n",
      "\u001b[31mAttributeError\u001b[39m: module 'datetime' has no attribute 'second'"
     ]
    }
   ],
   "source": [
    "import datetime\n",
    "\n",
    "def currentDate(x):\n",
    "    datetime.\n",
    " \n",
    "currentDate(4) #expected outcome: The total number of seconds is 345600.0.\n",
    "currentDate(7) #expected outcome: The total number of seconds is 604800.0."
   ]
  },
  {
   "cell_type": "code",
   "execution_count": null,
   "id": "63e21e48",
   "metadata": {},
   "outputs": [],
   "source": []
  }
 ],
 "metadata": {
  "kernelspec": {
   "display_name": "Python 3",
   "language": "python",
   "name": "python3"
  },
  "language_info": {
   "codemirror_mode": {
    "name": "ipython",
    "version": 3
   },
   "file_extension": ".py",
   "mimetype": "text/x-python",
   "name": "python",
   "nbconvert_exporter": "python",
   "pygments_lexer": "ipython3",
   "version": "3.13.6"
  }
 },
 "nbformat": 4,
 "nbformat_minor": 5
}
