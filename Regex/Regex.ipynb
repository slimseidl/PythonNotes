{
 "cells": [
  {
   "cell_type": "code",
   "execution_count": 1,
   "id": "89db36f1",
   "metadata": {},
   "outputs": [],
   "source": [
    "import re"
   ]
  },
  {
   "cell_type": "code",
   "execution_count": null,
   "id": "fe1e9265",
   "metadata": {},
   "outputs": [
    {
     "data": {
      "text/plain": [
       "['b', 'a', 'd', 'm', 'e', 'i', 'c']"
      ]
     },
     "execution_count": 2,
     "metadata": {},
     "output_type": "execute_result"
    }
   ],
   "source": [
    "name = 'Rob Mastrodomenico'\n",
    "x = re.findall(\"[a-m]\",name)\n",
    "# finds all matching characters a thru m then passes the value to find it in \n",
    "x"
   ]
  },
  {
   "cell_type": "code",
   "execution_count": 3,
   "id": "abf6219d",
   "metadata": {},
   "outputs": [
    {
     "name": "stderr",
     "output_type": "stream",
     "text": [
      "<>:5: SyntaxWarning: invalid escape sequence '\\d'\n",
      "<>:5: SyntaxWarning: invalid escape sequence '\\d'\n",
      "C:\\Users\\jseidl\\AppData\\Local\\Temp\\ipykernel_28076\\981306771.py:5: SyntaxWarning: invalid escape sequence '\\d'\n",
      "  x = re.findall(\"\\d\", txt)\n"
     ]
    },
    {
     "data": {
      "text/plain": [
       "['1', '2', '3']"
      ]
     },
     "execution_count": 3,
     "metadata": {},
     "output_type": "execute_result"
    }
   ],
   "source": [
    "# Find 0-9 in a sequence \n",
    "# \\d gives all numerical values between 0 and 9 \n",
    "import re\n",
    "txt = 'Find all numerical values like 1, 2, 3'\n",
    "x = re.findall(\"\\d\", txt)\n",
    "x"
   ]
  },
  {
   "cell_type": "code",
   "execution_count": 4,
   "id": "b97d5269",
   "metadata": {},
   "outputs": [
    {
     "data": {
      "text/plain": [
       "['hello', 'helpo', 'hesoo']"
      ]
     },
     "execution_count": 4,
     "metadata": {},
     "output_type": "execute_result"
    }
   ],
   "source": [
    "# Finding a similar string within text \n",
    "# \"he..o\" matches hello, helpo, helso\n",
    "txt = \"hello helpo hesoo\"\n",
    "x = re.findall(\"he..o\",txt)\n",
    "x\n"
   ]
  },
  {
   "cell_type": "code",
   "execution_count": null,
   "id": "59b92670",
   "metadata": {},
   "outputs": [
    {
     "data": {
      "text/plain": [
       "['stand']"
      ]
     },
     "execution_count": 9,
     "metadata": {},
     "output_type": "execute_result"
    }
   ],
   "source": [
    "# Matching patterns at start of a string\n",
    "# uses the ^ symbol as a prefix\n",
    "\n",
    "txt = \"stands at the top\"\n",
    "x = re.findall(\"^stand\",txt)\n",
    "x"
   ]
  },
  {
   "cell_type": "code",
   "execution_count": null,
   "id": "a4d5d599",
   "metadata": {},
   "outputs": [
    {
     "data": {
      "text/plain": [
       "['ai', 'ai', 'ai', 'ai']"
      ]
     },
     "execution_count": 10,
     "metadata": {},
     "output_type": "execute_result"
    }
   ],
   "source": [
    "# Finding 0 or more counts of a value within any area of a string\n",
    "# Use the * symbol after text you're looking for \n",
    "\n",
    "txt = \"The rain in Spain falls mainly in the plain!\"\n",
    "x = re.findall (\"aix*\", txt)\n",
    "# Finds 0 or more occurences of ai followed by x \n",
    "x"
   ]
  },
  {
   "cell_type": "code",
   "execution_count": 11,
   "id": "2f5a35aa",
   "metadata": {},
   "outputs": [
    {
     "data": {
      "text/plain": [
       "[]"
      ]
     },
     "execution_count": 11,
     "metadata": {},
     "output_type": "execute_result"
    }
   ],
   "source": [
    "txt = \"The rain in Spain falls mainly in the plain!\"\n",
    "x = re.findall (\"aix+\", txt)\n",
    "# Finds 1 or more occurences of ai followed by x \n",
    "x"
   ]
  },
  {
   "cell_type": "code",
   "execution_count": 12,
   "id": "2c8c9d66",
   "metadata": {},
   "outputs": [
    {
     "data": {
      "text/plain": [
       "['moo']"
      ]
     },
     "execution_count": 12,
     "metadata": {},
     "output_type": "execute_result"
    }
   ],
   "source": [
    "# Finding specific number of characters\n",
    "\n",
    "txt = 'The cow said moo'\n",
    "x = re.findall (\"mo{2}\", txt)\n",
    "x"
   ]
  },
  {
   "cell_type": "code",
   "execution_count": 14,
   "id": "c907c5af",
   "metadata": {},
   "outputs": [
    {
     "data": {
      "text/plain": [
       "[' heroes']"
      ]
     },
     "execution_count": 14,
     "metadata": {},
     "output_type": "execute_result"
    }
   ],
   "source": [
    "txt = \"The Avengers are earths mightiest heroes\"\n",
    "x = re.findall (\"avengers | heroes\", txt)\n",
    "# avengers or heroes that match\n",
    "x"
   ]
  },
  {
   "cell_type": "code",
   "execution_count": 15,
   "id": "e6698573",
   "metadata": {},
   "outputs": [
    {
     "name": "stderr",
     "output_type": "stream",
     "text": [
      "<>:4: SyntaxWarning: invalid escape sequence '\\s'\n",
      "<>:4: SyntaxWarning: invalid escape sequence '\\s'\n",
      "C:\\Users\\jseidl\\AppData\\Local\\Temp\\ipykernel_28076\\421697542.py:4: SyntaxWarning: invalid escape sequence '\\s'\n",
      "  x = re.findall (\"\\s\", txt)\n"
     ]
    },
    {
     "data": {
      "text/plain": [
       "[' ', ' ']"
      ]
     },
     "execution_count": 15,
     "metadata": {},
     "output_type": "execute_result"
    }
   ],
   "source": [
    "# Find White space\n",
    "\n",
    "txt = \"Is there whitespace\"\n",
    "x = re.findall (\"\\s\", txt)\n",
    "x"
   ]
  },
  {
   "cell_type": "code",
   "execution_count": 16,
   "id": "babe349a",
   "metadata": {},
   "outputs": [
    {
     "name": "stderr",
     "output_type": "stream",
     "text": [
      "<>:3: SyntaxWarning: invalid escape sequence '\\s'\n",
      "<>:3: SyntaxWarning: invalid escape sequence '\\s'\n",
      "C:\\Users\\jseidl\\AppData\\Local\\Temp\\ipykernel_28076\\1983760000.py:3: SyntaxWarning: invalid escape sequence '\\s'\n",
      "  x = re.split(\"\\s\", txt)\n"
     ]
    },
    {
     "data": {
      "text/plain": [
       "['The', 'rain', 'in', 'Spain']"
      ]
     },
     "execution_count": 16,
     "metadata": {},
     "output_type": "execute_result"
    }
   ],
   "source": [
    "# Split \n",
    "txt = \"The rain in Spain\"\n",
    "x = re.split(\"\\s\", txt)\n",
    "x"
   ]
  },
  {
   "cell_type": "code",
   "execution_count": 17,
   "id": "20213b73",
   "metadata": {},
   "outputs": [
    {
     "name": "stderr",
     "output_type": "stream",
     "text": [
      "<>:4: SyntaxWarning: invalid escape sequence '\\s'\n",
      "<>:4: SyntaxWarning: invalid escape sequence '\\s'\n",
      "C:\\Users\\jseidl\\AppData\\Local\\Temp\\ipykernel_28076\\1303908076.py:4: SyntaxWarning: invalid escape sequence '\\s'\n",
      "  x = re.split(\"\\s\", txt, maxsplit=1)\n"
     ]
    },
    {
     "data": {
      "text/plain": [
       "['The', 'rain in Spain']"
      ]
     },
     "execution_count": 17,
     "metadata": {},
     "output_type": "execute_result"
    }
   ],
   "source": [
    "# maxsplit \n",
    "\n",
    "txt = \"The rain in Spain\"\n",
    "x = re.split(\"\\s\", txt, maxsplit=1)\n",
    "x"
   ]
  },
  {
   "cell_type": "code",
   "execution_count": 19,
   "id": "64f712a2",
   "metadata": {},
   "outputs": [
    {
     "name": "stderr",
     "output_type": "stream",
     "text": [
      "<>:4: SyntaxWarning: invalid escape sequence '\\s'\n",
      "<>:4: SyntaxWarning: invalid escape sequence '\\s'\n",
      "C:\\Users\\jseidl\\AppData\\Local\\Temp\\ipykernel_28076\\1518443570.py:4: SyntaxWarning: invalid escape sequence '\\s'\n",
      "  x = re.split(\"\\s\", txt, maxsplit=2)\n"
     ]
    },
    {
     "data": {
      "text/plain": [
       "['The', 'rain', 'in Spain']"
      ]
     },
     "execution_count": 19,
     "metadata": {},
     "output_type": "execute_result"
    }
   ],
   "source": [
    "# maxsplit \n",
    "\n",
    "txt = \"The rain in Spain\"\n",
    "x = re.split(\"\\s\", txt, maxsplit=2)\n",
    "x"
   ]
  },
  {
   "cell_type": "code",
   "execution_count": 20,
   "id": "b4d1ed8e",
   "metadata": {},
   "outputs": [
    {
     "name": "stderr",
     "output_type": "stream",
     "text": [
      "<>:4: SyntaxWarning: invalid escape sequence '\\s'\n",
      "<>:4: SyntaxWarning: invalid escape sequence '\\s'\n",
      "C:\\Users\\jseidl\\AppData\\Local\\Temp\\ipykernel_28076\\2325096607.py:4: SyntaxWarning: invalid escape sequence '\\s'\n",
      "  x = re.sub (\"\\s\", \"9\", txt)\n"
     ]
    },
    {
     "data": {
      "text/plain": [
       "'The9rain9in9Spain'"
      ]
     },
     "execution_count": 20,
     "metadata": {},
     "output_type": "execute_result"
    }
   ],
   "source": [
    "# Sub Method\n",
    "# Like a replace method on a string\n",
    "txt = \"The rain in Spain\"\n",
    "x = re.sub (\"\\s\", \"9\", txt)\n",
    "# subs whitespace for the number 9\n",
    "x"
   ]
  },
  {
   "cell_type": "code",
   "execution_count": 21,
   "id": "5e2461b9",
   "metadata": {},
   "outputs": [
    {
     "name": "stderr",
     "output_type": "stream",
     "text": [
      "<>:3: SyntaxWarning: invalid escape sequence '\\s'\n",
      "<>:3: SyntaxWarning: invalid escape sequence '\\s'\n",
      "C:\\Users\\jseidl\\AppData\\Local\\Temp\\ipykernel_28076\\87419.py:3: SyntaxWarning: invalid escape sequence '\\s'\n",
      "  x = re.sub (\"\\s\", \"9\", txt, 1)\n",
      "C:\\Users\\jseidl\\AppData\\Local\\Temp\\ipykernel_28076\\87419.py:3: DeprecationWarning: 'count' is passed as positional argument\n",
      "  x = re.sub (\"\\s\", \"9\", txt, 1)\n"
     ]
    },
    {
     "data": {
      "text/plain": [
       "'The9rain in Spain'"
      ]
     },
     "execution_count": 21,
     "metadata": {},
     "output_type": "execute_result"
    }
   ],
   "source": [
    "# Sub method with a count of times to be split\n",
    "txt = \"The rain in Spain\"\n",
    "x = re.sub (\"\\s\", \"9\", txt, 1)\n",
    "x"
   ]
  },
  {
   "cell_type": "code",
   "execution_count": 23,
   "id": "ff25b3d9",
   "metadata": {},
   "outputs": [
    {
     "data": {
      "text/plain": [
       "(6, 8)"
      ]
     },
     "execution_count": 23,
     "metadata": {},
     "output_type": "execute_result"
    }
   ],
   "source": [
    "# Span Method\n",
    "# Returns a tuple of index ranges from the matching values\n",
    "txt = \"The rain in Spain\"\n",
    "x = re.search (\"in\", txt)\n",
    "x.span()"
   ]
  },
  {
   "cell_type": "code",
   "execution_count": null,
   "id": "7a70b3a2",
   "metadata": {},
   "outputs": [],
   "source": []
  }
 ],
 "metadata": {
  "kernelspec": {
   "display_name": "Python 3",
   "language": "python",
   "name": "python3"
  },
  "language_info": {
   "codemirror_mode": {
    "name": "ipython",
    "version": 3
   },
   "file_extension": ".py",
   "mimetype": "text/x-python",
   "name": "python",
   "nbconvert_exporter": "python",
   "pygments_lexer": "ipython3",
   "version": "3.13.7"
  }
 },
 "nbformat": 4,
 "nbformat_minor": 5
}
