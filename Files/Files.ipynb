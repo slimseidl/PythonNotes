{
 "cells": [
  {
   "cell_type": "code",
   "execution_count": 2,
   "id": "ca598198",
   "metadata": {},
   "outputs": [
    {
     "name": "stdout",
     "output_type": "stream",
     "text": [
      "c:\\Users\\jseidl\\PythonNotes\\Files\n",
      "None\n"
     ]
    }
   ],
   "source": [
    "import os\n",
    "\n",
    "# Complete the function to return the current working directory\n",
    "def getCurrentDirectory():\n",
    "    print(os.getcwd())\n",
    " \n",
    "# expected output: /tmp\n",
    "# if using PyFiddle.io otherwise it varies\n",
    "print(getCurrentDirectory())"
   ]
  },
  {
   "cell_type": "code",
   "execution_count": 6,
   "id": "ae129fd1",
   "metadata": {},
   "outputs": [
    {
     "name": "stdout",
     "output_type": "stream",
     "text": [
      "/var/www\n",
      "/var/www/apple\n"
     ]
    }
   ],
   "source": [
    "import os\n",
    "\n",
    "# Complete the function to return the directory name only from the given file name\n",
    "def getDirectoryName(fileName):\n",
    "    return os.path.dirname(fileName)\n",
    " \n",
    "# expected output: /var/www\n",
    "print(getDirectoryName(\"/var/www/test.html\"))\n",
    " \n",
    "# expected output: /var/www/apple\n",
    "print(getDirectoryName(\"/var/www/apple/test.html\"))"
   ]
  },
  {
   "cell_type": "code",
   "execution_count": 8,
   "id": "95ce8fc7",
   "metadata": {},
   "outputs": [
    {
     "name": "stdout",
     "output_type": "stream",
     "text": [
      "test.html\n",
      "names.txt\n"
     ]
    }
   ],
   "source": [
    "import os\n",
    "\n",
    "# Complete the function to return the file name part only from the given file name\n",
    "def getFileName(fileName):\n",
    "    return os.path.basename(fileName)\n",
    " \n",
    "# expected output: test.html\n",
    "print(getFileName(\"/var/www/test.html\"))\n",
    " \n",
    "# expected output: names.txt\n",
    "print(getFileName(\"/var/www/apple/names.txt\"))"
   ]
  },
  {
   "cell_type": "code",
   "execution_count": 9,
   "id": "0d3a6a7a",
   "metadata": {},
   "outputs": [
    {
     "name": "stdout",
     "output_type": "stream",
     "text": [
      "True\n"
     ]
    }
   ],
   "source": [
    "import os\n",
    "\n",
    "# Complete the function to create the specified file and return the file name\n",
    "def createFile(filename):\n",
    "    with open(filename, \"w\") as file:\n",
    "        pass\n",
    " \n",
    "# expected output: True\n",
    "createFile(\"test.txt\")\n",
    "print(os.path.exists(\"test.txt\"))"
   ]
  },
  {
   "cell_type": "code",
   "execution_count": 10,
   "id": "8394f8de",
   "metadata": {},
   "outputs": [
    {
     "name": "stdout",
     "output_type": "stream",
     "text": [
      "Files.ipynb\n",
      "Files.txt\n",
      "ReadFiles.py\n",
      "test.txt\n"
     ]
    }
   ],
   "source": [
    "import os\n",
    "\n",
    "# Complete the function to print all files in the given directory\n",
    "def printFiles(someDirectory):\n",
    "    for fileName in os.listdir(someDirectory):\n",
    "        if os.path.isfile(os.path.join(someDirectory, fileName)):\n",
    "            print(fileName)\n",
    "    \n",
    "# expected output: main.py    \n",
    "# if using PyFiddle.io otherwise it varies\n",
    "printFiles(os.getcwd())"
   ]
  },
  {
   "cell_type": "code",
   "execution_count": 13,
   "id": "8adbb0cb",
   "metadata": {},
   "outputs": [
    {
     "name": "stdout",
     "output_type": "stream",
     "text": [
      "Directory\n",
      "File\n",
      "Neither\n"
     ]
    }
   ],
   "source": [
    "import os\n",
    "\n",
    "# Complete the function to return FILE if the given path is a file\n",
    "# or return DIRECTORY if the given path is a directory\n",
    "# or return NEITHER is it's not a file or directory\n",
    "def whatIsIt(somePath):\n",
    "    if os.path.isfile(somePath):\n",
    "        return \"File\"\n",
    "    elif os.path.isdir(somePath):\n",
    "        return \"Directory\"\n",
    "    else:\n",
    "        return \"Neither\"\n",
    " \n",
    "# expected output: DIRECTORY\n",
    "print(whatIsIt(os.getcwd()))\n",
    " \n",
    "# expected output: FILE\n",
    "print(whatIsIt(os.listdir(os.getcwd())[0]))\n",
    " \n",
    "# expected output: NEITHER\n",
    "print(whatIsIt('apple.pie.123.txt'))"
   ]
  },
  {
   "cell_type": "code",
   "execution_count": 14,
   "id": "2db3e6fa",
   "metadata": {},
   "outputs": [
    {
     "name": "stdout",
     "output_type": "stream",
     "text": [
      "Hello\n"
     ]
    }
   ],
   "source": [
    "import os\n",
    "\n",
    "# Complete the function to read the contents of the specified file and print the contents\n",
    "def printFileContents(filename):\n",
    "    with open(filename) as myFile:\n",
    "        for line in myFile:\n",
    "            print(line)\n",
    " \n",
    "# expected output: Hello\n",
    "with open(\"test.txt\", 'w') as f: \n",
    "    f.write(\"Hello\")\n",
    "printFileContents(\"test.txt\")"
   ]
  },
  {
   "cell_type": "code",
   "execution_count": null,
   "id": "33967093",
   "metadata": {},
   "outputs": [],
   "source": [
    "import os\n",
    "\n",
    "# Complete the function to append the given new data to the specified file then print the contents of the file\n",
    "def appendAndPrint(filename, newData):\n",
    "    \n",
    " \n",
    "# expected output: Hello World\n",
    "with open(\"test.txt\", 'w') as f: \n",
    "    f.write(\"Hello \")\n",
    "appendAndPrint(\"test.txt\", \"World\")"
   ]
  }
 ],
 "metadata": {
  "kernelspec": {
   "display_name": "Python 3",
   "language": "python",
   "name": "python3"
  },
  "language_info": {
   "codemirror_mode": {
    "name": "ipython",
    "version": 3
   },
   "file_extension": ".py",
   "mimetype": "text/x-python",
   "name": "python",
   "nbconvert_exporter": "python",
   "pygments_lexer": "ipython3",
   "version": "3.13.6"
  }
 },
 "nbformat": 4,
 "nbformat_minor": 5
}
