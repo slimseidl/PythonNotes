{
 "cells": [
  {
   "cell_type": "code",
   "execution_count": 18,
   "id": "5b269306",
   "metadata": {},
   "outputs": [],
   "source": [
    "from flask import *"
   ]
  },
  {
   "cell_type": "code",
   "execution_count": 19,
   "id": "4111565c",
   "metadata": {},
   "outputs": [],
   "source": [
    "from flask_restful import Resource, Api"
   ]
  },
  {
   "cell_type": "code",
   "execution_count": null,
   "id": "85d8b8ae",
   "metadata": {},
   "outputs": [],
   "source": [
    "# Create Flask App using flask method with name of the current modue via __name__\n",
    "# Creates a web app \n",
    "app = Flask (__name__)\n",
    "\n",
    "# Builds the API\n",
    "api = Api (app)\n"
   ]
  },
  {
   "cell_type": "code",
   "execution_count": null,
   "id": "e4447d62",
   "metadata": {},
   "outputs": [],
   "source": [
    "# Creates a class using hell world using the resource argument\n",
    "# get method reuturns the dictionary of hello world\n",
    "# creates an endpoint for the API\n",
    "class HelloWorld(Resource):\n",
    "    def get(self):\n",
    "        return {'hello': 'world'}"
   ]
  },
  {
   "cell_type": "code",
   "execution_count": null,
   "id": "91e28348",
   "metadata": {},
   "outputs": [],
   "source": [
    "# starts the API \n",
    "# Uses the run method \n",
    "api.add_resource (HelloWorld, '/')"
   ]
  },
  {
   "cell_type": "code",
   "execution_count": 17,
   "id": "c06217c1",
   "metadata": {},
   "outputs": [
    {
     "name": "stdout",
     "output_type": "stream",
     "text": [
      " * Serving Flask app '__main__'\n",
      " * Debug mode: off\n"
     ]
    },
    {
     "name": "stderr",
     "output_type": "stream",
     "text": [
      "WARNING: This is a development server. Do not use it in a production deployment. Use a production WSGI server instead.\n",
      " * Running on http://127.0.0.1:5000\n",
      "Press CTRL+C to quit\n",
      "127.0.0.1 - - [10/Sep/2025 15:54:16] \"GET / HTTP/1.1\" 200 -\n",
      "127.0.0.1 - - [10/Sep/2025 15:54:16] \"GET /favicon.ico HTTP/1.1\" 404 -\n"
     ]
    }
   ],
   "source": [
    "\n",
    "app.run (debug=False)"
   ]
  },
  {
   "cell_type": "code",
   "execution_count": null,
   "id": "f91bd005",
   "metadata": {},
   "outputs": [],
   "source": []
  }
 ],
 "metadata": {
  "kernelspec": {
   "display_name": "Python 3",
   "language": "python",
   "name": "python3"
  },
  "language_info": {
   "codemirror_mode": {
    "name": "ipython",
    "version": 3
   },
   "file_extension": ".py",
   "mimetype": "text/x-python",
   "name": "python",
   "nbconvert_exporter": "python",
   "pygments_lexer": "ipython3",
   "version": "3.13.7"
  }
 },
 "nbformat": 4,
 "nbformat_minor": 5
}
