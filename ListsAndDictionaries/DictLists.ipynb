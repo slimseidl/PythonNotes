{
 "cells": [
  {
   "cell_type": "code",
   "execution_count": 4,
   "id": "b3d09f01",
   "metadata": {},
   "outputs": [
    {
     "name": "stdout",
     "output_type": "stream",
     "text": [
      "WGU\n",
      "WGU College\n"
     ]
    }
   ],
   "source": [
    "# Complete the function to print the first X number of characters in the given string\n",
    "def printFirst(mystring, x):\n",
    "    print(mystring[:x])\n",
    " \n",
    "# expected output: WGU\n",
    "printFirst('WGU College of IT', 3)    \n",
    " \n",
    "# expected output: WGU College\n",
    "printFirst('WGU College of IT', 11)"
   ]
  },
  {
   "cell_type": "code",
   "execution_count": 6,
   "id": "23a7c8b9",
   "metadata": {},
   "outputs": [
    {
     "name": "stdout",
     "output_type": "stream",
     "text": [
      "[8, 3]\n",
      "[15, 2]\n"
     ]
    }
   ],
   "source": [
    "# Complete the function to return the first two items in the given list\n",
    "def getFirstTwo(mylist):\n",
    "    return mylist[:2]\n",
    " \n",
    "# expected output: [8, 3]\n",
    "print(getFirstTwo([8,3,5,2,10]))  \n",
    " \n",
    "# expected output: [15, 2]\n",
    "print(getFirstTwo([15,2,10,12]))"
   ]
  },
  {
   "cell_type": "code",
   "execution_count": 7,
   "id": "1ded99c6",
   "metadata": {},
   "outputs": [
    {
     "name": "stdout",
     "output_type": "stream",
     "text": [
      "[2, 10]\n",
      "[9, 12]\n"
     ]
    }
   ],
   "source": [
    "# Complete the function to return the last two items in the given list\n",
    "def getLastTwo(mylist):\n",
    "    return mylist[-2:]\n",
    " \n",
    "# expected output: [2, 10]\n",
    "print(getLastTwo([8,3,5,2,10]))  \n",
    " \n",
    "# expected output: [9, 12]\n",
    "print(getLastTwo([15,2,9,12]))"
   ]
  },
  {
   "cell_type": "code",
   "execution_count": 13,
   "id": "a068ab88",
   "metadata": {},
   "outputs": [
    {
     "name": "stdout",
     "output_type": "stream",
     "text": [
      "[4, 5, 6, 7]\n",
      "[9, 8, 7, 6]\n"
     ]
    }
   ],
   "source": [
    "# Complete the function to add num1 to the end of the given list\n",
    "def addToEnd(mylist, num1):\n",
    "    mylist.append(num1)\n",
    "    return mylist\n",
    "    \n",
    "# expected output: [4, 5, 6, 7]\n",
    "print(addToEnd([4,5,6], 7))\n",
    " \n",
    "# expected output: [9, 8, 7, 6]\n",
    "print(addToEnd([9,8,7], 6))"
   ]
  },
  {
   "cell_type": "code",
   "execution_count": 14,
   "id": "ad1fb34c",
   "metadata": {},
   "outputs": [
    {
     "name": "stdout",
     "output_type": "stream",
     "text": [
      "[3, 4, 5, 6]\n",
      "[10, 9, 8, 7]\n"
     ]
    }
   ],
   "source": [
    "# Complete the function to add num1 to the front of the given list\n",
    "def addToFront(mylist, num1):\n",
    "    mylist.insert(0,num1)\n",
    "    return mylist\n",
    " \n",
    "# expected output: [3, 4, 5, 6]\n",
    "print(addToFront([4,5,6], 3))\n",
    " \n",
    "# expected output: [10, 9, 8, 7]\n",
    "print(addToFront([9,8,7], 10))"
   ]
  },
  {
   "cell_type": "code",
   "execution_count": 15,
   "id": "5154eddb",
   "metadata": {},
   "outputs": [
    {
     "name": "stdout",
     "output_type": "stream",
     "text": [
      "[8, 3, 19, 1]\n",
      "[7, 15, 3, 5]\n"
     ]
    }
   ],
   "source": [
    "# Complete the function to return a new list containing \n",
    "# the first two and last two items in the given list\n",
    "def getFirstTwoAndLastTwo(mylist):\n",
    "    mylist1 = mylist[0:2]\n",
    "    mylist2 = mylist[-2:]\n",
    "    return mylist1 + mylist2\n",
    " \n",
    "# expected output: [8, 3, 19, 1]\n",
    "print(getFirstTwoAndLastTwo([8,3,7,15,2,10,19,1]))\n",
    " \n",
    "# expected output: [7, 15, 3, 5]\n",
    "print(getFirstTwoAndLastTwo([7,15,2,10,19,1,3,5]))"
   ]
  },
  {
   "cell_type": "code",
   "execution_count": 17,
   "id": "9bc38e5d",
   "metadata": {},
   "outputs": [
    {
     "name": "stdout",
     "output_type": "stream",
     "text": [
      "[7, 8, 9]\n",
      "[2, 3, 4]\n"
     ]
    }
   ],
   "source": [
    "# Complete the function to remove the first item in the given list\n",
    "def removeFirst(mylist):\n",
    "    mylist.pop(0)\n",
    "    return mylist\n",
    " \n",
    "# expected output: [7, 8, 9]\n",
    "print(removeFirst([6,7,8,9]))\n",
    " \n",
    "# expected output: [2, 3, 4]\n",
    "print(removeFirst([1,2,3,4]))"
   ]
  },
  {
   "cell_type": "code",
   "execution_count": 18,
   "id": "3c26804d",
   "metadata": {},
   "outputs": [
    {
     "name": "stdout",
     "output_type": "stream",
     "text": [
      "[6, 7, 9]\n",
      "[1, 2, 4]\n"
     ]
    }
   ],
   "source": [
    "# Complete the function to remove the third item in the given list\n",
    "def removeThird(mylist):\n",
    "    mylist.pop(2)\n",
    "    return mylist\n",
    " \n",
    "# expected output: [6, 7, 9]\n",
    "print(removeThird([6,7,8,9]))\n",
    " \n",
    "# expected output: [1, 2, 4]\n",
    "print(removeThird([1,2,3,4]))"
   ]
  },
  {
   "cell_type": "code",
   "execution_count": 24,
   "id": "7835cfd0",
   "metadata": {},
   "outputs": [
    {
     "name": "stdout",
     "output_type": "stream",
     "text": [
      "[4, 12, 19, 33]\n",
      "[33, 19, 12, 4]\n"
     ]
    }
   ],
   "source": [
    "# Complete the function to order the values in the list\n",
    "# if ascending is true then order lowest to highest\n",
    "# if ascending is false then order highest to lowest\n",
    "def sortList(mylist, ascending):\n",
    "    if ascending == True:\n",
    "        mylist.sort()\n",
    "    else:\n",
    "        mylist.sort(reverse=True)\n",
    "    return mylist\n",
    " \n",
    "# expected output: [4, 12, 19, 33]\n",
    "print(sortList([19,4,33,12], True))\n",
    " \n",
    "# expected output: [33, 19, 12, 4]\n",
    "print(sortList([19,4,33,12], False))"
   ]
  },
  {
   "cell_type": "code",
   "execution_count": 25,
   "id": "ea33c29a",
   "metadata": {},
   "outputs": [
    {
     "name": "stdout",
     "output_type": "stream",
     "text": [
      "{'tomato': 'red', 'banana': 'yellow', 'lime': 'green'}\n",
      "{'Brazil': 'Brasilia', 'Ireland': 'Dublin', 'Indonesia': 'Jakarta'}\n"
     ]
    }
   ],
   "source": [
    "# Complete the function to return a dictionary using \n",
    "# list1 as the keys and list2 as the values\n",
    "def createDict(list1, list2):\n",
    "    mydict = {}\n",
    "    for i in range(len(list1)):\n",
    "        mydict[list1[i]] = list2[i]\n",
    "    return mydict\n",
    "        \n",
    "# expected output: {'tomato': 'red', 'banana': 'yellow', 'lime': 'green'}  \n",
    "print(createDict(['tomato', 'banana', 'lime'], ['red','yellow','green']))        \n",
    " \n",
    "# expected output: {'Brazil': 'Brasilia', 'Ireland': 'Dublin', 'Indonesia': 'Jakarta'}\n",
    "print(createDict(['Brazil', 'Ireland', 'Indonesia'], ['Brasilia','Dublin','Jakarta']))"
   ]
  },
  {
   "cell_type": "code",
   "execution_count": 26,
   "id": "2625081f",
   "metadata": {},
   "outputs": [
    {
     "name": "stdout",
     "output_type": "stream",
     "text": [
      "yellow\n",
      "Not Found\n"
     ]
    }
   ],
   "source": [
    "# Complete the function to return a dictionary value \n",
    "# if it exists or return Not Found if it doesn't exist\n",
    "def findDictItem(mydict, key):\n",
    "    return mydict.get(key, 'Not Found')\n",
    "        \n",
    "# expected output: yellow\n",
    "print(findDictItem({'tomato': 'red', 'banana': 'yellow', 'lime': 'green'} , 'banana'))\n",
    " \n",
    "# expected output: Not Found\n",
    "print(findDictItem({'Brazil': 'Brasilia', 'Ireland': 'Dublin', 'Indonesia': 'Jakarta'},'Cameroon'))"
   ]
  },
  {
   "cell_type": "code",
   "execution_count": 28,
   "id": "3abf0f11",
   "metadata": {},
   "outputs": [
    {
     "name": "stdout",
     "output_type": "stream",
     "text": [
      "{'tomato': 'red', 'lime': 'green'}\n",
      "{'Brazil': 'Brasilia', 'Ireland': 'Dublin', 'Indonesia': 'Jakarta'}\n"
     ]
    }
   ],
   "source": [
    "# Complete the function to remove a dictionary item if it exists\n",
    "def removeDictItem(mydict, key):\n",
    "    mydict.pop(key, 'NA')\n",
    "    return mydict\n",
    " \n",
    "# expected output: {'tomato': 'red', 'lime': 'green'}\n",
    "print(removeDictItem({'tomato': 'red', 'banana': 'yellow', 'lime': 'green'} , 'banana'))\n",
    " \n",
    "# expected output: {'Brazil': 'Brasilia', 'Ireland': 'Dublin', 'Indonesia': 'Jakarta'}\n",
    "print(removeDictItem({'Brazil': 'Brasilia', 'Ireland': 'Dublin', 'Indonesia': 'Jakarta'},'Cameroon'))"
   ]
  },
  {
   "cell_type": "code",
   "execution_count": 30,
   "id": "aba6a271",
   "metadata": {},
   "outputs": [
    {
     "name": "stdout",
     "output_type": "stream",
     "text": [
      "dict_items([('tomato', 'red'), ('banana', 'yellow'), ('lime', 'green')])\n",
      "dict_items([('Brazil', 'Brasilia'), ('Ireland', 'Dublin'), ('Indonesia', 'Jakarta')])\n"
     ]
    }
   ],
   "source": [
    "# Complete the function to print every key and value\n",
    "def printDict(mydict):\n",
    "    print(mydict.items())\n",
    "        \n",
    "# expected output: \n",
    "#        tomato=red\n",
    "#        banana=yellow\n",
    "#        lime=green\n",
    "printDict({'tomato': 'red', 'banana': 'yellow', 'lime': 'green'})\n",
    " \n",
    "# expected output: \n",
    "#        Brazil=Brasilia\n",
    "#        Ireland=Dublin\n",
    "#        Indonesia=Jakarta\n",
    "printDict({'Brazil': 'Brasilia', 'Ireland': 'Dublin', 'Indonesia': 'Jakarta'})"
   ]
  },
  {
   "cell_type": "code",
   "execution_count": null,
   "id": "d8d190bd",
   "metadata": {},
   "outputs": [],
   "source": []
  }
 ],
 "metadata": {
  "kernelspec": {
   "display_name": "Python 3",
   "language": "python",
   "name": "python3"
  },
  "language_info": {
   "codemirror_mode": {
    "name": "ipython",
    "version": 3
   },
   "file_extension": ".py",
   "mimetype": "text/x-python",
   "name": "python",
   "nbconvert_exporter": "python",
   "pygments_lexer": "ipython3",
   "version": "3.13.7"
  }
 },
 "nbformat": 4,
 "nbformat_minor": 5
}
