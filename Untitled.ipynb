{
 "cells": [
  {
   "cell_type": "code",
   "execution_count": null,
   "id": "3ce98a06-5d1e-4aa4-b70f-859c2afda4d9",
   "metadata": {},
   "outputs": [
    {
     "name": "stdin",
     "output_type": "stream",
     "text": [
      "\n",
      "Enter 'quit' to stop adding items to cart or press Enter to continue:\n",
      " \n"
     ]
    },
    {
     "name": "stdout",
     "output_type": "stream",
     "text": [
      "Item 1:\n",
      "\n"
     ]
    },
    {
     "name": "stdin",
     "output_type": "stream",
     "text": [
      "Enter the item name:\n",
      " Cookies\n",
      "Enter the item price:\n",
      " 12.99\n",
      "Enter the item quantity:\n",
      " 3\n"
     ]
    },
    {
     "name": "stdout",
     "output_type": "stream",
     "text": [
      "Item Cost:\n",
      "Cookies 3 @ $12.99 = $38.97\n"
     ]
    },
    {
     "name": "stdin",
     "output_type": "stream",
     "text": [
      "\n",
      "Enter 'quit' to stop adding items to cart or press Enter to continue:\n",
      " \n"
     ]
    },
    {
     "name": "stdout",
     "output_type": "stream",
     "text": [
      "Item 2:\n",
      "\n"
     ]
    },
    {
     "name": "stdin",
     "output_type": "stream",
     "text": [
      "Enter the item name:\n",
      " Busch Lattes\n",
      "Enter the item price:\n",
      " 24.99\n",
      "Enter the item quantity:\n",
      " 3\n"
     ]
    },
    {
     "name": "stdout",
     "output_type": "stream",
     "text": [
      "Item Cost:\n",
      "Busch Lattes 3 @ $24.99 = $74.97\n"
     ]
    },
    {
     "name": "stdin",
     "output_type": "stream",
     "text": [
      "\n",
      "Enter 'quit' to stop adding items to cart or press Enter to continue:\n",
      " quit\n"
     ]
    },
    {
     "name": "stdout",
     "output_type": "stream",
     "text": [
      "Cart Subtotal: $113.94\n",
      "Sales Tax: $7.98\n",
      "Grand Total: $121.92\n"
     ]
    }
   ],
   "source": [
    "%run FullPrograms/CartProgram.py"
   ]
  },
  {
   "cell_type": "code",
   "execution_count": null,
   "id": "2947a2b6-7fb5-4773-b5c4-e2dda0b8b7b0",
   "metadata": {},
   "outputs": [],
   "source": []
  }
 ],
 "metadata": {
  "kernelspec": {
   "display_name": "Python 3 (ipykernel)",
   "language": "python",
   "name": "python3"
  },
  "language_info": {
   "codemirror_mode": {
    "name": "ipython",
    "version": 3
   },
   "file_extension": ".py",
   "mimetype": "text/x-python",
   "name": "python",
   "nbconvert_exporter": "python",
   "pygments_lexer": "ipython3",
   "version": "3.11.5"
  }
 },
 "nbformat": 4,
 "nbformat_minor": 5
}
